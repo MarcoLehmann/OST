{
 "cells": [
  {
   "cell_type": "markdown",
   "metadata": {},
   "source": [
    "Fitting a logarithmic function to a fex data point.\n",
    "\n",
    "(original use case: calculate the number of components in a Gaussian Mixture Model. Kemaro Project)\n",
    "\n"
   ]
  },
  {
   "cell_type": "code",
   "execution_count": 1,
   "metadata": {},
   "outputs": [],
   "source": [
    "import matplotlib.pyplot as plt\n",
    "%matplotlib inline\n",
    "\n",
    "import math\n",
    "import numpy as np\n"
   ]
  },
  {
   "cell_type": "code",
   "execution_count": 2,
   "metadata": {},
   "outputs": [],
   "source": [
    "# model\n",
    "f_x_abc = lambda x, a,b,c: (a + b* math.log(x+c))\n",
    "\n",
    "# error (not squared!) and gradients of sqErr\n",
    "err_i = lambda x, y, a,b,c: (y - f_x_abc(x, a,b,c) )\n",
    "de_da = lambda x, y, a,b,c: -2.0*err_i(x, y, a,b,c)\n",
    "de_db = lambda x, y, a,b,c: -2.0*err_i(x, y, a,b,c) *math.log(x+c)\n",
    "de_dc = lambda x, y, a,b,c: -2.0*err_i(x, y, a,b,c) * b / (x+c)"
   ]
  },
  {
   "cell_type": "code",
   "execution_count": 3,
   "metadata": {},
   "outputs": [
    {
     "data": {
      "text/plain": [
       "9"
      ]
     },
     "execution_count": 3,
     "metadata": {},
     "output_type": "execute_result"
    }
   ],
   "source": [
    "# data:\n",
    "X = [0.1, 2,   4,    5,    8,     10,   20,  40,  80]\n",
    "Y = [0.6, 1.4, 2.0,  2.2,  2.6,  2.9,   4,   6,  8.]\n",
    "N = len(X)\n",
    "N"
   ]
  },
  {
   "cell_type": "code",
   "execution_count": 4,
   "metadata": {},
   "outputs": [
    {
     "data": {
      "text/plain": [
       "[<matplotlib.lines.Line2D at 0x11d1b63a0>]"
      ]
     },
     "execution_count": 4,
     "metadata": {},
     "output_type": "execute_result"
    },
    {
     "data": {
      "image/png": "[encoded data removed]",
      "text/plain": [
       "<Figure size 432x288 with 1 Axes>"
      ]
     },
     "metadata": {
      "needs_background": "light"
     },
     "output_type": "display_data"
    }
   ],
   "source": [
    "plt.plot(X, Y)"
   ]
  },
  {
   "cell_type": "code",
   "execution_count": null,
   "metadata": {},
   "outputs": [],
   "source": [
    "\n"
   ]
  },
  {
   "cell_type": "code",
   "execution_count": 5,
   "metadata": {},
   "outputs": [
    {
     "name": "stdout",
     "output_type": "stream",
     "text": [
      "0.8580626552706226\n",
      "1.0137056388801093\n",
      "1.208240530771945\n",
      "1.254089850944687\n",
      "1.2974149070059542\n",
      "1.4150933502119996\n",
      "1.908957546641684\n",
      "3.2623303817166316\n",
      "4.593280752735747\n"
     ]
    }
   ],
   "source": [
    "a = -1.\n",
    "b = 1.0\n",
    "c = 2.0\n",
    "\n",
    "for i in range(N):\n",
    "    xi = X[i]\n",
    "    yi = Y[i]\n",
    "    e = err_i(xi, yi, a, b, c)\n",
    "    print(e)"
   ]
  },
  {
   "cell_type": "code",
   "execution_count": 6,
   "metadata": {
    "scrolled": true
   },
   "outputs": [
    {
     "name": "stdout",
     "output_type": "stream",
     "text": [
      "\n",
      "a = -0.8164278335936935\n",
      "b = 1.5141522820454187\n",
      "c = 1.0283706723444068\n",
      "grad_a = -36.7144332812613\n",
      "grad_b = -102.83045640908375\n",
      "grad_c = -5.674134468881369\n",
      "err_sq_batch = 47.934202886212404\n",
      "\n",
      "a = -6.305303813632685\n",
      "b = 3.1539005367152027\n",
      "c = 9.145469578750113\n",
      "grad_a = 0.012663754423791085\n",
      "grad_b = -0.002864355619104364\n",
      "grad_c = -0.02152785443703528\n",
      "err_sq_batch = 0.221813592524292\n",
      "\n",
      "a = -7.093013016730367\n",
      "b = 3.3304874574947014\n",
      "c = 10.502160626230385\n",
      "grad_a = 0.004851643612504342\n",
      "grad_b = -0.0010783764542791063\n",
      "grad_c = -0.008457774123404854\n",
      "err_sq_batch = 0.19503648419098155\n",
      "\n",
      "a = -7.434305666806228\n",
      "b = 3.406083808692409\n",
      "c = 11.099954012330901\n",
      "grad_a = 0.00234714345060838\n",
      "grad_b = -0.0005181210644786827\n",
      "grad_c = -0.004130054031101441\n",
      "err_sq_batch = 0.19003416991932257\n",
      "\n",
      "a = -7.606866167506036\n",
      "b = 3.4441118362398355\n",
      "c = 11.404267285173752\n",
      "grad_a = 0.0012377184147001064\n",
      "grad_b = -0.0002723084283794419\n",
      "grad_c = -0.0021875071764002885\n",
      "err_sq_batch = 0.18875411796969307\n",
      "\n",
      "a = -7.699739640049341\n",
      "b = 3.4645267235165957\n",
      "c = 11.568597802831043\n",
      "grad_a = 0.0006795586816947807\n",
      "grad_b = -0.00014924508486308108\n",
      "grad_c = -0.0012037828596522132\n",
      "err_sq_batch = 0.18838294025431485\n",
      "\n",
      "a = -7.751268853842712\n",
      "b = 3.4758381155472162\n",
      "c = 11.659934613188469\n",
      "grad_a = 0.00038096572267876105\n",
      "grad_b = -8.358694022564395e-05\n",
      "grad_c = -0.0006756909010244457\n",
      "err_sq_batch = 0.18826859787135214\n",
      "\n",
      "a = -7.780320939464174\n",
      "b = 3.4822106458354667\n",
      "c = 11.711480095138857\n",
      "grad_a = 0.00021600136344468446\n",
      "grad_b = -4.736672094224348e-05\n",
      "grad_c = -0.0003833720881194786\n",
      "err_sq_batch = 0.18823223666417863\n",
      "\n",
      "a = -7.796845045831709\n",
      "b = 3.4858336428555465\n",
      "c = 11.740813831132773\n",
      "grad_a = 0.00012324278362307872\n",
      "grad_b = -2.7017472500223683e-05\n",
      "grad_c = -0.00021882460807397123\n",
      "err_sq_batch = 0.1882204706897121\n",
      "\n",
      "a = -7.806289916233697\n",
      "b = 3.4879039801198175\n",
      "c = 11.757585616528456\n",
      "grad_a = 7.056846291164653e-05\n",
      "grad_b = -1.5467411955460975e-05\n",
      "grad_c = -0.00012532639244286362\n",
      "err_sq_batch = 0.1882166261261213\n",
      "\n",
      "a = -7.8117032990078314\n",
      "b = 3.489090442320032\n",
      "c = 11.767200154813711\n"
     ]
    }
   ],
   "source": [
    "## init params:\n",
    "a = - 1.0\n",
    "b = 1.0\n",
    "c = 1.0\n",
    "alpha = 0.005\n",
    "errMax = 1e-3\n",
    "\n",
    "for k in range(200000):\n",
    "    grad_a = 0.\n",
    "    grad_b = 0.\n",
    "    grad_c = 0.\n",
    "    err_sq_batch = 0.\n",
    "    for i in range(N):\n",
    "        xi = X[i]\n",
    "        yi = Y[i]\n",
    "        err_sq_batch += err_i(xi, yi, a, b, c)**2\n",
    "        grad_a += de_da(xi, yi, a, b, c)\n",
    "        grad_b += de_db(xi, yi, a, b, c)\n",
    "        grad_c += de_dc(xi, yi, a, b, c)\n",
    "        \n",
    "    a -= alpha * grad_a\n",
    "    b -= alpha * grad_b\n",
    "    c -= alpha * grad_c\n",
    "    if k%20000 == 0:\n",
    "        print(\"\")\n",
    "        print(\"a = \" + str(a))\n",
    "        print(\"b = \" + str(b))\n",
    "        print(\"c = \" + str(c))\n",
    "        print(\"grad_a = \" + str(grad_a))\n",
    "        print(\"grad_b = \" + str(grad_b))\n",
    "        print(\"grad_c = \" + str(grad_c))\n",
    "        print(\"err_sq_batch = \"  + str(err_sq_batch))\n",
    "    if err_sq_batch < errMax:\n",
    "        print(\"break. err_batch=\"+str(err_sq_batch))\n",
    "        break\n",
    "print(\"\")\n",
    "print(\"a = \" + str(a))\n",
    "print(\"b = \" + str(b))\n",
    "print(\"c = \" + str(c))\n",
    "\n"
   ]
  },
  {
   "cell_type": "markdown",
   "metadata": {},
   "source": [
    "grad_a = -0.000260675941098798\n",
    "grad_b = 5.4384173203483877e-05\n",
    "grad_c = 0.0005277208081727962\n",
    "err_batch = 0.000130337970549399\n",
    "a = -10.668149137770385\n",
    "b = 3.855185567634275\n",
    "c = 18.083059816203395"
   ]
  },
  {
   "cell_type": "code",
   "execution_count": 7,
   "metadata": {},
   "outputs": [
    {
     "name": "stdout",
     "output_type": "stream",
     "text": [
      "am=-7.81\n",
      "bm=3.49\n",
      "cm=11.77\n"
     ]
    }
   ],
   "source": [
    "# set manually:\n",
    "am = round(a, 2)\n",
    "bm = round(b, 2)\n",
    "cm = round(c, 2)\n",
    "\n",
    "# am = -9.2\n",
    "# bm = 3.6\n",
    "# cm = 14.6\n",
    "\n",
    "\n",
    "# am = -10.5\n",
    "# bm = 3.8\n",
    "# cm = 17.8\n",
    "\n",
    "print(\"am=\"+str(am))\n",
    "print(\"bm=\"+str(bm))\n",
    "print(\"cm=\"+str(cm))\n"
   ]
  },
  {
   "cell_type": "code",
   "execution_count": null,
   "metadata": {},
   "outputs": [],
   "source": []
  },
  {
   "cell_type": "code",
   "execution_count": 8,
   "metadata": {},
   "outputs": [],
   "source": [
    "Y_hat = [f_x_abc(x, a, b, c) for x in X]"
   ]
  },
  {
   "cell_type": "code",
   "execution_count": 13,
   "metadata": {},
   "outputs": [
    {
     "data": {
      "text/plain": [
       "[<matplotlib.lines.Line2D at 0x11d48a070>]"
      ]
     },
     "execution_count": 13,
     "metadata": {},
     "output_type": "execute_result"
    },
    {
     "data": {
      "image/png": "[encoded data removed]",
      "text/plain": [
       "<Figure size 432x288 with 1 Axes>"
      ]
     },
     "metadata": {
      "needs_background": "light"
     },
     "output_type": "display_data"
    }
   ],
   "source": [
    "plt.plot(X, Y, '-ob')\n",
    "plt.plot(X, Y_hat, '--oy')\n",
    "\n",
    "xx = np.linspace(0., 100, 100)\n",
    "yy = [math.ceil(y) for y in Y_hat]\n",
    "yceil = [math.ceil(f_x_abc(x, am, bm, cm)) for x in xx]\n",
    "yround = [round(f_x_abc(x, am, bm, cm)) for x in xx]\n",
    "plt.plot(xx, yceil, '-m')\n",
    "# plt.plot(xx, yround, '--r')\n",
    "plt.plot(xx, np.divide(xx,yceil), '--b')\n"
   ]
  },
  {
   "cell_type": "code",
   "execution_count": 10,
   "metadata": {},
   "outputs": [
    {
     "data": {
      "text/plain": [
       "(0.0, 5.0)"
      ]
     },
     "execution_count": 10,
     "metadata": {},
     "output_type": "execute_result"
    },
    {
     "data": {
      "image/png": "[encoded data removed]",
      "text/plain": [
       "<Figure size 432x288 with 1 Axes>"
      ]
     },
     "metadata": {
      "needs_background": "light"
     },
     "output_type": "display_data"
    }
   ],
   "source": [
    "plt.plot(X, Y, '-ob')\n",
    "plt.plot(X, Y_hat, '--oy')\n",
    "\n",
    "xx = np.linspace(0, 40, 200)\n",
    "plt.plot(xx, [math.ceil(f_x_abc(x, a, b, c)) for x in xx], '--k')\n",
    "\n",
    "yceil = [math.ceil(f_x_abc(x, am, bm, cm)) for x in xx]\n",
    "yround = [round(f_x_abc(x, am, bm, cm)) for x in xx]\n",
    "plt.plot(xx, yceil, '-m')\n",
    "plt.plot(xx, yround, '--r')\n",
    "\n",
    "\n",
    "m2PerPointMan = np.divide(xx,yceil)\n",
    "plt.plot(xx, m2PerPointMan, '--b')\n",
    "\n",
    "# m2PerPointMan = np.divide(xx,yround)\n",
    "# plt.plot(xx, m2PerPointMan, '--b')\n",
    "\n",
    "\n",
    "plt.xlim(0, 18)\n",
    "plt.ylim(0, 5)\n"
   ]
  },
  {
   "cell_type": "code",
   "execution_count": 11,
   "metadata": {},
   "outputs": [
    {
     "data": {
      "text/plain": [
       "6"
      ]
     },
     "execution_count": 11,
     "metadata": {},
     "output_type": "execute_result"
    }
   ],
   "source": [
    "math.ceil(f_x_abc(36, am, bm, cm))"
   ]
  },
  {
   "cell_type": "code",
   "execution_count": 12,
   "metadata": {},
   "outputs": [
    {
     "name": "stdout",
     "output_type": "stream",
     "text": [
      "-0.22430958808930213\n",
      "0.05750182853543295\n",
      "0.18419819059743414\n",
      "0.16962540033543938\n",
      "-0.004738073767013962\n",
      "-0.0410597346101329\n",
      "-0.26024334450217435\n",
      "0.03563020011080287\n",
      "0.03769379056008315\n"
     ]
    }
   ],
   "source": [
    "for i in range(N):\n",
    "    xi = X[i]\n",
    "    yi = Y[i]\n",
    "    e = err_i(xi, yi, am, bm, cm)\n",
    "    print(e)"
   ]
  },
  {
   "cell_type": "code",
   "execution_count": null,
   "metadata": {},
   "outputs": [],
   "source": []
  }
 ],
 "metadata": {
  "kernelspec": {
   "display_name": "Python 3",
   "language": "python",
   "name": "python3"
  },
  "language_info": {
   "codemirror_mode": {
    "name": "ipython",
    "version": 3
   },
   "file_extension": ".py",
   "mimetype": "text/x-python",
   "name": "python",
   "nbconvert_exporter": "python",
   "pygments_lexer": "ipython3",
   "version": "3.8.2"
  }
 },
 "nbformat": 4,
 "nbformat_minor": 4
}
