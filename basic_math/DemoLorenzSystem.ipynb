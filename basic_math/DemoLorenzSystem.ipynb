{
 "cells": [
  {
   "cell_type": "markdown",
   "metadata": {},
   "source": [
    "Demo taken from:\n",
    "https://ipywidgets.readthedocs.io/en/stable/examples/Lorenz%20Differential%20Equations.html\n"
   ]
  },
  {
   "cell_type": "code",
   "execution_count": 2,
   "metadata": {},
   "outputs": [
    {
     "name": "stderr",
     "output_type": "stream",
     "text": [
      "UsageError: Line magic function `%` not found.\n"
     ]
    }
   ],
   "source": [
    "%matplotlib widget\n",
    "\n",
    "from ipywidgets import interact, interactive\n",
    "from IPython.display import clear_output, display, HTML\n",
    "\n",
    "import numpy as np\n",
    "from scipy import integrate\n",
    "\n",
    "from matplotlib import pyplot as plt\n",
    "from mpl_toolkits.mplot3d import Axes3D\n",
    "from matplotlib.colors import cnames\n",
    "from matplotlib import animation\n",
    "\n",
    "import math"
   ]
  },
  {
   "cell_type": "code",
   "execution_count": null,
   "metadata": {},
   "outputs": [],
   "source": [
    "def solve_lorenz(N=10, angle=0.0, max_time=8.0, sigma=10.0, beta=8./3, rho=28.0):\n",
    "\n",
    "    fig = plt.figure()\n",
    "    ax = fig.add_axes([0, 0, 1, 1], projection='3d')\n",
    "    ax.axis('off')\n",
    "\n",
    "    # prepare the axes limits\n",
    "    ax.set_xlim((-25, 25))\n",
    "    ax.set_ylim((-35, 35))\n",
    "    ax.set_zlim((5, 55))\n",
    "\n",
    "    def lorenz_deriv(x_y_z, t0, sigma=sigma, beta=beta, rho=rho):\n",
    "        \"\"\"Compute the time-derivative of a Lorenz system.\"\"\"\n",
    "        x, y, z = x_y_z\n",
    "        return [sigma * (y - x), x * (rho - z) - y, x * y - beta * z]\n",
    "\n",
    "    # Choose random starting points, uniformly distributed from -15 to 15\n",
    "    np.random.seed(1)\n",
    "    x0 = -15 + 30 * np.random.random((N, 3))\n",
    "\n",
    "    # Solve for the trajectories\n",
    "    t = np.linspace(0, max_time, int(250*max_time))\n",
    "    x_t = np.asarray([integrate.odeint(lorenz_deriv, x0i, t)\n",
    "                      for x0i in x0])\n",
    "\n",
    "    # choose a different color for each trajectory\n",
    "    colors = plt.cm.viridis(np.linspace(0, 1, N))\n",
    "\n",
    "    for i in range(N):\n",
    "        x, y, z = x_t[i,:,:].T\n",
    "        lines = ax.plot(x, y, z, '-', c=colors[i])\n",
    "        plt.setp(lines, linewidth=2)\n",
    "\n",
    "    ax.view_init(30, angle)\n",
    "    plt.show()\n",
    "\n",
    "    return t, x_t"
   ]
  },
  {
   "cell_type": "code",
   "execution_count": null,
   "metadata": {},
   "outputs": [],
   "source": [
    "t, x_t = solve_lorenz(angle=0, N=5)\n"
   ]
  },
  {
   "cell_type": "code",
   "execution_count": null,
   "metadata": {},
   "outputs": [],
   "source": [
    "# linear model\n",
    "f_x_ab = lambda x, a,b: (a*x + b)\n",
    "\n",
    "# error, squared error, and gradients of sqErr\n",
    "err_i = lambda x, y, a,b: (y - f_x_ab(x, a, b) )\n",
    "err2_i = lambda x, y, a,b: err_i(x, y, a,b)**2\n",
    "de_da = lambda x, y, a,b: -2.0*err_i(x, y, a,b)*x\n",
    "de_db = lambda x, y, a,b: -2.0*err_i(x, y, a,b)"
   ]
  },
  {
   "cell_type": "code",
   "execution_count": null,
   "metadata": {},
   "outputs": [],
   "source": [
    "err_i"
   ]
  },
  {
   "cell_type": "code",
   "execution_count": null,
   "metadata": {},
   "outputs": [],
   "source": [
    "# data:\n",
    "X = [0, 1, 2, 3, 6, 10]\n",
    "Y = [2.1, 4.2, 5.8, 8, 14, 18]\n",
    "N = len(X)\n",
    "N"
   ]
  },
  {
   "cell_type": "code",
   "execution_count": null,
   "metadata": {},
   "outputs": [],
   "source": [
    "plt.plot(X, Y, '-o')"
   ]
  },
  {
   "cell_type": "code",
   "execution_count": null,
   "metadata": {},
   "outputs": [],
   "source": [
    "\n"
   ]
  },
  {
   "cell_type": "code",
   "execution_count": null,
   "metadata": {},
   "outputs": [],
   "source": [
    "a = 1.8\n",
    "b = 2.2\n",
    "\n",
    "for i in range(N):\n",
    "    xi = X[i]\n",
    "    yi = Y[i]\n",
    "    e = err2_i(xi, yi, a, b)\n",
    "    print(e)"
   ]
  },
  {
   "cell_type": "code",
   "execution_count": null,
   "metadata": {
    "scrolled": true
   },
   "outputs": [],
   "source": [
    "## init params:\n",
    "a = - 1.0\n",
    "b = 1.0\n",
    "alpha = 0.001\n",
    "errMax = 1e-3\n",
    "\n",
    "for k in range(200):\n",
    "    grad_a = 0.\n",
    "    grad_b = 0.\n",
    "    err_sq_batch = 0.\n",
    "    for i in range(N):\n",
    "        xi = X[i]\n",
    "        yi = Y[i]\n",
    "        err_sq_batch += err2_i(xi, yi, a, b)\n",
    "        grad_a += de_da(xi, yi, a, b)\n",
    "        grad_b += de_db(xi, yi, a, b)\n",
    "        \n",
    "#     lr_a = grad_a/err_sq_batch\n",
    "#     lr_b = grad_b/err_sq_batch\n",
    "    \n",
    "\n",
    "    a -= alpha * grad_a\n",
    "    b -= alpha * grad_b\n",
    "    if k%20 == 0:\n",
    "        print(\"\")\n",
    "        print(\"a = \" + str(a))\n",
    "        print(\"b = \" + str(b))\n",
    "        print(\"grad_a = \" + str(grad_a))\n",
    "        print(\"grad_b = \" + str(grad_b))\n",
    "        print(\"err_sq_batch = \"  + str(err_sq_batch))\n",
    "    if err_sq_batch < errMax:\n",
    "        print(\"break. err_batch=\"+str(err_sq_batch))\n",
    "        break\n",
    "print(\"\")\n",
    "print(\"a = \" + str(a))\n",
    "print(\"b = \" + str(b))\n",
    "\n"
   ]
  },
  {
   "cell_type": "code",
   "execution_count": null,
   "metadata": {},
   "outputs": [],
   "source": [
    "sum_err  = 0\n",
    "for i in range(N):\n",
    "    xi = X[i]\n",
    "    yi = Y[i]\n",
    "    e = err_i(xi, yi, a, b)\n",
    "    sum_err +=e\n",
    "    print(e)\n",
    "print(\"abs:\")\n",
    "print(sum_err)"
   ]
  },
  {
   "cell_type": "code",
   "execution_count": null,
   "metadata": {},
   "outputs": [],
   "source": []
  }
 ],
 "metadata": {
  "kernelspec": {
   "display_name": "Python 3",
   "language": "python",
   "name": "python3"
  },
  "language_info": {
   "codemirror_mode": {
    "name": "ipython",
    "version": 3
   },
   "file_extension": ".py",
   "mimetype": "text/x-python",
   "name": "python",
   "nbconvert_exporter": "python",
   "pygments_lexer": "ipython3",
   "version": "3.8.2"
  }
 },
 "nbformat": 4,
 "nbformat_minor": 4
}
